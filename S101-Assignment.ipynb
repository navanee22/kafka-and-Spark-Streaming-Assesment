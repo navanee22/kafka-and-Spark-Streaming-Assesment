{
 "cells": [
  {
   "cell_type": "code",
   "execution_count": null,
   "id": "076d9b9f-f9ed-49bc-b878-cee52001c790",
   "metadata": {},
   "outputs": [],
   "source": [
    "import os\n",
    "# save using vs code\n",
    "SCALA_VERSION = '2.12'\n",
    "SPARK_VERSION = '3.1.3'\n",
    "# Download Kafka Jar file, this for readStream.format(\"kafka\"), \"kafka\" is a driver\n",
    "# kafka driver code is part of Maven Jar file\n",
    "# https://mvnrepository.com/artifact/org.apache.spark/spark-sql-kafka-0-10_2.12/3.1.3\n",
    "# pyspark-shell shall download the jar file behind..\n",
    "os.environ['PYSPARK_SUBMIT_ARGS'] = f'--packages org.apache.spark:spark-sql-kafka-0-10_{SCALA_VERSION}:{SPARK_VERSION} pyspark-shell'"
   ]
  },
  {
   "cell_type": "code",
   "execution_count": null,
   "id": "bff1ddeb-0674-4ca9-93de-cde70723ee27",
   "metadata": {},
   "outputs": [],
   "source": [
    "import findspark\n",
    "findspark.init()"
   ]
  },
  {
   "cell_type": "code",
   "execution_count": null,
   "id": "c229fe10-2105-4087-993b-97a4c318e057",
   "metadata": {},
   "outputs": [],
   "source": [
    "import pyspark\n",
    "from pyspark.sql import SparkSession\n",
    "spark= SparkSession.builder.master(\"local[4]\").appName(\"Excercise-1\").config('spark.sql.shuffle.partitions', 4).getOrCreate()\n"
   ]
  },
  {
   "cell_type": "code",
   "execution_count": null,
   "id": "e8d57748-8ec5-40c6-80af-ae069b64fce7",
   "metadata": {},
   "outputs": [],
   "source": [
    "\n",
    "#     kafka-topics  --create --bootstrap-server localhost:9092 --replication-factor 1 --partitions 4 --topic orders \n",
    "#     kafka-console-consumer --bootstrap-server localhost:9092 --topic  orders   --from-beginning\n",
    "\n",
    "#     kafka-topics  --create --bootstrap-server localhost:9092 --replication-factor 1 --partitions 4 --topic statewise_earning \n",
    "#     kafka-console-consumer --bootstrap-server localhost:9092 --topic  statewise_earning   --from-beginning"
   ]
  },
  {
   "cell_type": "code",
   "execution_count": null,
   "id": "a6761e12-bb0a-4a83-89a6-5a9d35eea7ce",
   "metadata": {},
   "outputs": [],
   "source": [
    "readfromkafkaDf= spark.readStream.format(\"kafka\").option(\"kafka.bootstrap.servers\", \"localhost:9092\").option(\"subscribe\", \"orders\").option(\"group-id\",\"ordersEx1-nav\").load()"
   ]
  },
  {
   "cell_type": "code",
   "execution_count": null,
   "id": "2f7924ba-9025-4bac-9396-32fcef7be41e",
   "metadata": {},
   "outputs": [],
   "source": [
    "readfromkafkaDf.printSchema()"
   ]
  },
  {
   "cell_type": "code",
   "execution_count": null,
   "id": "8ff150b9-1d7b-4b6b-a767-0c5f28c1de0d",
   "metadata": {},
   "outputs": [],
   "source": [
    "ordersDf= readfromkafkaDf.selectExpr((\"CAST(value as STRING)\"),(\"timestamp\"))\n",
    "ordersDf.printSchema()"
   ]
  },
  {
   "cell_type": "code",
   "execution_count": null,
   "id": "587117b4-e2d1-4f12-b654-b2fece20ca44",
   "metadata": {
    "tags": []
   },
   "outputs": [],
   "source": [
    "from pyspark.sql.types import StructField, StructType, DoubleType, StringType, LongType, TimestampType, IntegerType\n",
    "schema= StructType([\n",
    "    StructField(\"order_id\",LongType(),True),\n",
    "    StructField(\"item_id\", StringType(), True),\n",
    "     StructField(\"price\", IntegerType(), True),\n",
    "    StructField(\"Qty\", IntegerType(),  True),\n",
    "    StructField(\"state\", StringType(),  True)\n",
    "    ])"
   ]
  },
  {
   "cell_type": "code",
   "execution_count": null,
   "id": "16ad09ca-f19e-4eb7-bd42-df459883fecb",
   "metadata": {},
   "outputs": [],
   "source": [
    "import pyspark.sql.functions as F\n",
    "stringToJsonOrdersDf= ordersDf.withColumn(\"value\", F.from_json(\"value\",schema))\n",
    "stringToJsonOrdersDf.printSchema()"
   ]
  },
  {
   "cell_type": "code",
   "execution_count": null,
   "id": "5a68e488-9f89-4c2d-b646-51214651efea",
   "metadata": {},
   "outputs": [],
   "source": [
    "valueDf= stringToJsonOrdersDf.select(\"value.*\",\"timestamp\")\n",
    "valueDf.printSchema()\n",
    "  "
   ]
  },
  {
   "cell_type": "code",
   "execution_count": null,
   "id": "cb38e00c-6770-4dd3-b08d-eb2fccc8f7a4",
   "metadata": {},
   "outputs": [],
   "source": [
    "from pyspark.sql.functions import *\n",
    "\n",
    "amountDf= valueDf.withColumn(\"Amount\", (col(\"price\") * col(\"qty\")))\n",
    "\n",
    "\n",
    "amountDf.printSchema()                        \n"
   ]
  },
  {
   "cell_type": "code",
   "execution_count": null,
   "id": "75cf97cc-03e1-470c-bc57-aa7cad2f1a4e",
   "metadata": {},
   "outputs": [],
   "source": [
    "sumDf= amountDf.withWatermark(\"timestamp\", \"30 seconds\").groupBy(\"state\", F.window(\"timestamp\", \"1 minutes\"))\\\n",
    "                                .agg( F.sum( col(\"Amount\")).alias(\"Amount\"))\\\n",
    "                                .drop(\"window\")   \n",
    "sumDf.printSchema()      \n",
    "# echoOnconsole = sumDf\\\n",
    "#                 .writeStream\\\n",
    "#                 .outputMode(\"update\")\\\n",
    "#                 .format(\"console\")\\\n",
    "#                 .option(\"truncate\", False)\\\n",
    "#                 .start()\n",
    "                              "
   ]
  },
  {
   "cell_type": "code",
   "execution_count": null,
   "id": "b003c36c-3feb-44ca-8a02-96d87bfc519e",
   "metadata": {},
   "outputs": [],
   "source": [
    "sumDfTojsonDf= sumDf.selectExpr(\"to_json(struct(*)) AS value\")\n",
    "sumDfTojsonDf.printSchema()\n",
    "\n"
   ]
  },
  {
   "cell_type": "code",
   "execution_count": null,
   "id": "336d7e0b-ed0c-4ece-b074-1d5edd127ec0",
   "metadata": {},
   "outputs": [],
   "source": [
    "sumDfTojsonDf.writeStream\\\n",
    "             .format(\"kafka\")\\\n",
    "            .outputMode(\"update\")\\\n",
    "             .option(\"kafka.bootstrap.servers\", \"localhost:9092\")\\\n",
    "            .option(\"topic\", \"statewise_earning\")\\\n",
    "            .option(\"checkpointLocation\", \"file:///tmp/spark95\")\\\n",
    "            .start()\n",
    "\n",
    "\n"
   ]
  },
  {
   "cell_type": "code",
   "execution_count": null,
   "id": "ad1629cd-8c1f-4bd3-884d-af6a508b6b53",
   "metadata": {},
   "outputs": [],
   "source": [
    "def processBatchData(candleBatchDf, batch_id):\n",
    "    print (\"process batch called\", batch_id, \"writing \", candleBatchDf.count())\n",
    "    # result = candleBatchDf.collect()\n",
    "    # print(result)\n",
    "    # candleBatchDf.show(2)\n",
    "    # write to csv/json/parqeut/database /jdbc etc\n",
    "    # window is nested column, has its children columns called start and end\n",
    "    # start and end are part of nested window column\n",
    "    # append mode will not delete existin data, instead append to existing table\n",
    "    (\n",
    "     candleBatchDf\n",
    "        .write\n",
    "        .mode(\"append\")\n",
    "        .format(\"jdbc\")\n",
    "        .option(\"url\", \"jdbc:mysql://localhost:3306/stockdb?allowPublicKeyRetrieval=true&useSSL=false\")\n",
    "        .option(\"driver\", \"com.mysql.jdbc.Driver\")\n",
    "        .option(\"user\", \"team\")\n",
    "        .option(\"password\", \"Team1234!\")\n",
    "        .option(\"dbtable\", \"orders\")\n",
    "         .save()\n",
    "    )\n",
    "    \n",
    "sumDf.writeStream.outputMode(\"append\")\\\n",
    " .option(\"checkpointLocation\", \"file:///tmp/spark33\")\\\n",
    " .foreachBatch(processBatchData).start()\n",
    "\n",
    "\n"
   ]
  },
  {
   "cell_type": "code",
   "execution_count": null,
   "id": "e0b1a0f1-e59f-4e7a-8dbb-1d4d66e6fdb7",
   "metadata": {},
   "outputs": [],
   "source": []
  }
 ],
 "metadata": {
  "kernelspec": {
   "display_name": "Python 3 (ipykernel)",
   "language": "python",
   "name": "python3"
  },
  "language_info": {
   "codemirror_mode": {
    "name": "ipython",
    "version": 3
   },
   "file_extension": ".py",
   "mimetype": "text/x-python",
   "name": "python",
   "nbconvert_exporter": "python",
   "pygments_lexer": "ipython3",
   "version": "3.7.12"
  }
 },
 "nbformat": 4,
 "nbformat_minor": 5
}
